{
 "cells": [
  {
   "cell_type": "markdown",
   "id": "c6068342",
   "metadata": {},
   "source": [
    "# Impact of sampling on the Wasserstein distance between two distributions"
   ]
  },
  {
   "cell_type": "code",
   "execution_count": 1,
   "id": "d7cd7b90",
   "metadata": {},
   "outputs": [],
   "source": [
    "import numpy as np\n",
    "import pandas as pd\n",
    "import matplotlib.pyplot as plt\n",
    "from scipy.stats import norm\n",
    "from scipy.stats import wasserstein_distance"
   ]
  },
  {
   "cell_type": "code",
   "execution_count": 2,
   "id": "58413ad2",
   "metadata": {},
   "outputs": [
    {
     "data": {
      "image/png": "[encoded data removed]",
      "text/plain": [
       "<Figure size 432x288 with 1 Axes>"
      ]
     },
     "metadata": {
      "needs_background": "light"
     },
     "output_type": "display_data"
    }
   ],
   "source": [
    "#Set the number of random variables n_variables and the number of points per random variable n_points\n",
    "n_variables, n_points = 2, 1_000_000\n",
    "\n",
    "#Generate n_variables*n_points random uniform values\n",
    "df = pd.DataFrame(np.random.uniform(size=(n_variables,n_points)))\n",
    "\n",
    "#Apply the inverse cumulative distribution function (ICDF) to generate the desired distributions\n",
    "df = pd.DataFrame(norm.ppf(df))\n",
    "\n",
    "#Plot the resulting distributions\n",
    "plt.hist(df.loc[0,:], bins=100,density=True);\n",
    "plt.hist(df.loc[1,:], bins=100,density=True, alpha=0.5);\n",
    "plt.show()"
   ]
  },
  {
   "cell_type": "code",
   "execution_count": 3,
   "id": "cac1a48f",
   "metadata": {},
   "outputs": [
    {
     "data": {
      "text/plain": [
       "<matplotlib.collections.PathCollection at 0x1cb35ca33c8>"
      ]
     },
     "execution_count": 3,
     "metadata": {},
     "output_type": "execute_result"
    },
    {
     "data": {
      "image/png": "[encoded data removed]",
      "text/plain": [
       "<Figure size 432x288 with 1 Axes>"
      ]
     },
     "metadata": {
      "needs_background": "light"
     },
     "output_type": "display_data"
    }
   ],
   "source": [
    "N = [10,30,100,300,1000,3000,10_000,30_000,100_000,300_000,1_000_000]\n",
    "All_distances=pd.DataFrame([])\n",
    "for i in range(1000):\n",
    "    distances=[]\n",
    "    for n in N:\n",
    "        df = pd.DataFrame(np.random.uniform(size=(2,n)))\n",
    "        df = pd.DataFrame(norm.ppf(df))\n",
    "        distances.append(wasserstein_distance(df.loc[0,:], df.loc[1,:]))\n",
    "    All_distances=pd.concat([All_distances,pd.DataFrame(distances).T])\n",
    "\n",
    "fig = plt.figure()\n",
    "ax = plt.gca()\n",
    "ax.set_xscale('log')\n",
    "ax.set_yscale('log')\n",
    "plt.grid(visible=True, which='both')\n",
    "plt.scatter(N, All_distances.mean())"
   ]
  },
  {
   "cell_type": "code",
   "execution_count": null,
   "id": "37a7422b",
   "metadata": {},
   "outputs": [],
   "source": []
  }
 ],
 "metadata": {
  "jupytext": {
   "formats": "ipynb,py:light"
  },
  "kernelspec": {
   "display_name": "Python 3",
   "language": "python",
   "name": "python3"
  },
  "language_info": {
   "codemirror_mode": {
    "name": "ipython",
    "version": 3
   },
   "file_extension": ".py",
   "mimetype": "text/x-python",
   "name": "python",
   "nbconvert_exporter": "python",
   "pygments_lexer": "ipython3",
   "version": "3.6.15"
  }
 },
 "nbformat": 4,
 "nbformat_minor": 5
}
